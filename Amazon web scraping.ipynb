{
 "cells": [
  {
   "cell_type": "code",
   "execution_count": 1,
   "id": "555ed38b-a4c4-4b84-844d-7feed9121a2e",
   "metadata": {},
   "outputs": [],
   "source": [
    "# import libraries\n",
    "\n",
    "from bs4 import BeautifulSoup\n",
    "import requests\n",
    "import time\n",
    "import datetime\n",
    "import smtplib"
   ]
  },
  {
   "cell_type": "code",
   "execution_count": 3,
   "id": "91b8f650-b9bb-4bf5-91d4-7109caba22f7",
   "metadata": {},
   "outputs": [],
   "source": [
    "# connect to amazon\n",
    "\n",
    "url = 'https://www.amazon.in/Sony-WH-1000XM4-Cancelling-Headphones-Bluetooth/dp/B0863TXGM3/ref=sr_1_5?dib=eyJ2IjoiMSJ9.vcXSLVoefhfj66YEZvGH9HX_9nR_HqI83kSik4KmujHYUOssnE2N0bL-kqPnD6X3i8DrLmSGkdxAoDL6fZlrUE_2prlqfoijpIEsm7mHd9cNCMflhaOW-Fh65MjaCwnFeMDilvX8yZO1OXmhfWhg35oyPD9NTghhip7PoKPw_YxWEMIlFzuK8DhR8yAO53S6c3HwL2V0m_93gM4vBJZExvJOZzvB9eX8i3KqqOxAuelldZ4PQeOwMjg2ri5KU08PsKJDUkECnfQeKJTHsR8q-KrCzB-I2yriqLic9eYiFZA.vxadA9hslCM8hR1kx_AMgnHZkQ8MIEoyJIn9B8DLdCM&dib_tag=se&keywords=sony&qid=1721272352&s=electronics&sr=1-5'\n",
    "\n",
    "headers = {\"User-Agent\":\t\"Mozilla/5.0 (Windows NT 10.0; Win64; x64; rv:128.0) Gecko/20100101 Firefox/128.0\"}\n",
    "\n",
    "page = requests.get(url, headers=headers)\n",
    "\n",
    "soup1 = BeautifulSoup(page.content, \"html.parser\")\n",
    "soup2 = BeautifulSoup(soup1.prettify(), \"html\")\n",
    "\n",
    "title = soup2.find(id=\"productTitle\").get_text().strip()\n",
    "price = soup2.find(class_=\"a-price-whole\").get_text().strip().replace('.','')\n"
   ]
  },
  {
   "cell_type": "code",
   "execution_count": 5,
   "id": "21083e6b-e035-49a6-8ffa-efad1f304003",
   "metadata": {},
   "outputs": [
    {
     "name": "stdout",
     "output_type": "stream",
     "text": [
      "2024-07-18\n"
     ]
    }
   ],
   "source": [
    "# Create a Timestamp for your output to track when data was collected\n",
    "\n",
    "import datetime\n",
    "\n",
    "today = datetime.date.today()\n",
    "\n",
    "print(today)"
   ]
  },
  {
   "cell_type": "code",
   "execution_count": 7,
   "id": "0a3cb5c8-72d3-44bd-8c39-c1aab6615f64",
   "metadata": {},
   "outputs": [],
   "source": [
    "# Create CSV and write headers and data into the file\n",
    "\n",
    "import csv \n",
    "\n",
    "header = ['Title', 'Price', 'Date']\n",
    "data = [title, price, today]\n",
    "\n",
    "\n",
    "with open('AmazonWebScraperDataset.csv', 'w', newline='', encoding='UTF8') as f:\n",
    "    writer = csv.writer(f)\n",
    "    writer.writerow(header)\n",
    "    writer.writerow(data)"
   ]
  },
  {
   "cell_type": "code",
   "execution_count": 19,
   "id": "a08928a8-1f74-4887-88c2-2ad3a2f20e38",
   "metadata": {
    "scrolled": true
   },
   "outputs": [
    {
     "name": "stdout",
     "output_type": "stream",
     "text": [
      "                                               Title   Price        Date\n",
      "0  Sony WH-1000XM4 Industry Leading Wireless Nois...  22,990  2024-07-18\n",
      "1  Sony WH-1000XM4 Industry Leading Wireless Nois...  22,990  2024-07-18\n",
      "2  Sony WH-1000XM4 Industry Leading Wireless Nois...  22,990  2024-07-18\n",
      "3  Sony WH-1000XM4 Industry Leading Wireless Nois...  22,990  2024-07-18\n"
     ]
    }
   ],
   "source": [
    "import pandas as pd\n",
    "\n",
    "df = pd.read_csv(r\"D:\\Code\\Python\\Data-Analysis\\AmazonWebScraperDataset.csv\")\n",
    "\n",
    "# Cleaning up the \"Title\" column\n",
    "df['Title'] = df['Title'].str.strip()\n",
    "\n",
    "# Cleaning up the \"Price\" column\n",
    "df['Price'] = df['Price'].str.strip().replace('\\n', '')\n",
    "\n",
    "print(df)"
   ]
  },
  {
   "cell_type": "code",
   "execution_count": 17,
   "id": "2c7805a3-b217-4414-92eb-641ebb2cf006",
   "metadata": {},
   "outputs": [],
   "source": [
    "# append data to the csv\n",
    "\n",
    "with open('AmazonWebScraperDataset.csv', 'a+', newline='', encoding='UTF8') as f:\n",
    "    writer = csv.writer(f)\n",
    "    writer.writerow(data)"
   ]
  },
  {
   "cell_type": "code",
   "execution_count": 21,
   "id": "43bf76d5-1be3-4727-9212-5e17800cefe8",
   "metadata": {},
   "outputs": [],
   "source": [
    "def check_price():\n",
    "    url = 'https://www.amazon.in/Sony-WH-1000XM4-Cancelling-Headphones-Bluetooth/dp/B0863TXGM3/ref=sr_1_5?dib=eyJ2IjoiMSJ9.vcXSLVoefhfj66YEZvGH9HX_9nR_HqI83kSik4KmujHYUOssnE2N0bL-kqPnD6X3i8DrLmSGkdxAoDL6fZlrUE_2prlqfoijpIEsm7mHd9cNCMflhaOW-Fh65MjaCwnFeMDilvX8yZO1OXmhfWhg35oyPD9NTghhip7PoKPw_YxWEMIlFzuK8DhR8yAO53S6c3HwL2V0m_93gM4vBJZExvJOZzvB9eX8i3KqqOxAuelldZ4PQeOwMjg2ri5KU08PsKJDUkECnfQeKJTHsR8q-KrCzB-I2yriqLic9eYiFZA.vxadA9hslCM8hR1kx_AMgnHZkQ8MIEoyJIn9B8DLdCM&dib_tag=se&keywords=sony&qid=1721272352&s=electronics&sr=1-5'\n",
    "\n",
    "    headers = {\"User-Agent\":\t\"Mozilla/5.0 (Windows NT 10.0; Win64; x64; rv:128.0) Gecko/20100101 Firefox/128.0\"}\n",
    "    \n",
    "    page = requests.get(url, headers=headers)\n",
    "    \n",
    "    soup1 = BeautifulSoup(page.content, \"html.parser\")\n",
    "    soup2 = BeautifulSoup(soup1.prettify(), \"html\")\n",
    "\n",
    "    title = soup2.find(id=\"productTitle\").get_text().strip()\n",
    "    price = soup2.find(class_=\"a-price-whole\").get_text().strip().replace('.','')\n",
    "\n",
    "    import datetime\n",
    "    \n",
    "    today = datetime.date.today()\n",
    "\n",
    "    import csv \n",
    "\n",
    "    header = ['Title', 'Price', 'Date']\n",
    "    data = [title, price, today]\n",
    "    \n",
    "    with open('AmazonWebScraperDataset.csv', 'a+', newline='', encoding='UTF8') as f:\n",
    "        writer = csv.writer(f)\n",
    "        writer.writerow(data)\n"
   ]
  },
  {
   "cell_type": "code",
   "execution_count": null,
   "id": "0a7da39c-466f-43dd-ad4e-34e6efc59866",
   "metadata": {},
   "outputs": [],
   "source": [
    "# Runs check_price after a set time and inputs data into your CSV\n",
    "\n",
    "while(True):\n",
    "    check_price()\n",
    "    time.sleep(86400)"
   ]
  },
  {
   "cell_type": "code",
   "execution_count": null,
   "id": "0976c782-2e35-4d06-ae78-47862a921e12",
   "metadata": {},
   "outputs": [],
   "source": [
    "import pandas as pd\n",
    "\n",
    "df = pd.read_csv(r\"D:\\Code\\Python\\Data-Analysis\\AmazonWebScraperDataset.csv\")\n",
    "\n",
    "# Cleaning up the \"Title\" column\n",
    "df['Title'] = df['Title'].str.strip()\n",
    "\n",
    "# Cleaning up the \"Price\" column\n",
    "df['Price'] = df['Price'].str.strip().replace('\\n', '')\n",
    "\n",
    "print(df)"
   ]
  },
  {
   "cell_type": "code",
   "execution_count": null,
   "id": "51303d6b-74ff-4676-b5c3-347b6159a06f",
   "metadata": {},
   "outputs": [],
   "source": []
  }
 ],
 "metadata": {
  "kernelspec": {
   "display_name": "Python 3 (ipykernel)",
   "language": "python",
   "name": "python3"
  },
  "language_info": {
   "codemirror_mode": {
    "name": "ipython",
    "version": 3
   },
   "file_extension": ".py",
   "mimetype": "text/x-python",
   "name": "python",
   "nbconvert_exporter": "python",
   "pygments_lexer": "ipython3",
   "version": "3.12.4"
  }
 },
 "nbformat": 4,
 "nbformat_minor": 5
}
